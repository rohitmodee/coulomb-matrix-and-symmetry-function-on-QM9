{
 "cells": [
  {
   "cell_type": "code",
   "execution_count": 26,
   "metadata": {},
   "outputs": [],
   "source": [
    "import numpy as np\n",
    "import torch\n",
    "import torch.nn as nn\n",
    "import torch.nn.functional as F\n",
    "from torch.utils.data import Dataset, DataLoader\n",
    "from torch.nn.utils.rnn import pad_sequence\n",
    "import torch.optim as optim\n",
    "import pdb\n",
    "from torch.optim.lr_scheduler import MultiStepLR, ReduceLROnPlateau\n",
    "from torch.utils.data.sampler import SubsetRandomSampler\n",
    "from tqdm import tqdm\n",
    "import matplotlib.pyplot as plt\n",
    "from mods import all_metric\n",
    "\n",
    "from sklearn.metrics import mean_absolute_error, mean_squared_error\n",
    "from ase import Atoms\n",
    "from ase.io import Trajectory, read\n",
    "import torch\n",
    "import torchani\n",
    "import warnings\n",
    "import string\n",
    "from datetime import datetime\n",
    "\n",
    "device = \"cuda\""
   ]
  },
  {
   "cell_type": "markdown",
   "metadata": {},
   "source": [
    "## Create DART Model"
   ]
  },
  {
   "cell_type": "code",
   "execution_count": 2,
   "metadata": {},
   "outputs": [],
   "source": [
    "# device = torch.device('cuda' if torch.cuda.is_available() else 'cpu')\n",
    "\n",
    "class DART_Net(nn.Module):\n",
    "    def __init__(self):\n",
    "        super(DART_Net, self).__init__()\n",
    "        self.fi1 = nn.Linear(769, 128)\n",
    "        self.fi2 = nn.Linear(128, 128)\n",
    "        self.fi3 = nn.Linear(128, 32)\n",
    "        self.fi4 = nn.Linear(32, 1)\n",
    "        \n",
    "    def forward(self, ai):\n",
    "#         pdb.set_trace()\n",
    "        ai_sum = ai.sum(axis=2)\n",
    "        same_shape = ai_sum.shape\n",
    "        ones = torch.ones(same_shape, device=device)\n",
    "        zeros = torch.zeros(same_shape, device=device)\n",
    "        make_zero = torch.where(ai_sum==0, zeros, ones)\n",
    "        ai_mask = make_zero.unsqueeze(dim=2)\n",
    "\n",
    "        ######### atom_i ############\n",
    "        ai = F.celu(self.fi1(ai), 0.1)\n",
    "        ai = F.celu(self.fi2(ai), 0.1)\n",
    "        ai = F.celu(self.fi3(ai), 0.1)\n",
    "        ai = self.fi4(ai)\n",
    "        ai = ai * ai_mask\n",
    "        return ai\n",
    "\n",
    "# # def set_aev_param():\n",
    "# Rcr = 5.2000e+00\n",
    "# Rca = 3.5000e+00\n",
    "\n",
    "# EtaR = torch.tensor([1.6000000e+01], device=device)\n",
    "# ShfR = torch.tensor([9.0000000e-01, 1.0193548e+00, 1.1387097e+00, 1.2580645e+00, 1.3774194e+00, 1.4967742e+00, 1.6161290e+00, 1.7354839e+00, 1.8548387e+00, 1.9741935e+00, 2.0935484e+00, 2.2129032e+00, 2.3322581e+00, 2.4516129e+00, 2.5709677e+00, 2.6903226e+00, 2.8096774e+00, 2.9290323e+00, 3.0483871e+00, 3.1677419e+00, 3.2870968e+00, 3.4064516e+00, 3.5258065e+00, 3.6451613e+00, 3.7645161e+00, 3.883871e+00, 4.0032258e+00, 4.1225806e+00, 4.2419355e+00, 4.3612903e+00, 4.4806452e+00, 4.6e+00], device=device)\n",
    "# Zeta = torch.tensor([3.2000000e+01], device=device)\n",
    "# ShfZ = torch.tensor([1.9634954e-01, 5.8904862e-01, 9.8174770e-01, 1.3744468e+00, 1.7671459e+00, 2.1598449e+00, 2.5525440e+00, 2.9452431e+00], device=device)\n",
    "# EtaA = torch.tensor([8.0000000e+00], device=device)\n",
    "# ShfA = torch.tensor([9.0000000e-01, 1.1785714e+00, 1.4571429e+00, 1.7357143e+00, 2.0142857e+00, 2.2928571e+00, 2.5714286e+00, 2.8500000e+00], device=device)\n",
    "# num_species = 4\n",
    "\n",
    "# aev_computer = torchani.AEVComputer(Rcr, Rca, EtaR, ShfR, EtaA, Zeta, ShfA, ShfZ, num_species)\n",
    "# species_to_tensor = torchani.utils.ChemicalSymbolsToInts('HCNO')\n",
    "\n",
    "# inttosymbol = {6:\"C\", 1:\"H\", 7:\"N\", 8:\"O\"}\n",
    "\n",
    "# def corrected_sp_format(tmp_sp):\n",
    "#     return species_to_tensor([inttosymbol[i] for i in tmp_sp])"
   ]
  },
  {
   "cell_type": "code",
   "execution_count": 3,
   "metadata": {},
   "outputs": [
    {
     "data": {
      "text/plain": [
       "'cuda'"
      ]
     },
     "execution_count": 3,
     "metadata": {},
     "output_type": "execute_result"
    }
   ],
   "source": [
    "device"
   ]
  },
  {
   "cell_type": "markdown",
   "metadata": {},
   "source": [
    "## Load data, pre-process to generate descriptors (BPSF)"
   ]
  },
  {
   "cell_type": "code",
   "execution_count": 4,
   "metadata": {},
   "outputs": [],
   "source": [
    "# valid_db = np.load(\"data/valid.npz\", allow_pickle=True)\n",
    "# test_db = np.load(\"data/test.npz\", allow_pickle=True)\n",
    "# train_db = np.load(\"data/train.npz\", allow_pickle=True)"
   ]
  },
  {
   "cell_type": "code",
   "execution_count": 5,
   "metadata": {},
   "outputs": [],
   "source": [
    "# all_data = {\"va_db\":valid_db, \"te_db\":test_db, \"ta_db\":train_db}\n",
    "# energy = {}\n",
    "# coor = {}\n",
    "# atom_number = {}\n",
    "# atom_counts = {}\n",
    "# for k, v in all_data.items():\n",
    "#     energy[k] = v[\"U0\"]\n",
    "#     coor[k] = v[\"positions\"]\n",
    "#     atom_number[k] = v[\"charges\"]\n",
    "#     atom_counts[k] = v[\"num_atoms\"]"
   ]
  },
  {
   "cell_type": "code",
   "execution_count": 6,
   "metadata": {},
   "outputs": [],
   "source": [
    "# aev_mat = []\n",
    "# mol_ene = []\n",
    "# mol_sp = []\n",
    "# for i in range(len(energy[\"va_db\"])):\n",
    "#     try:\n",
    "#         tmp_sp = corrected_sp_format(atom_number[\"va_db\"][i,:atom_counts[\"va_db\"][i]])\n",
    "#         tmp_coor = coor[\"va_db\"][i,:atom_counts[\"va_db\"][i]]\n",
    "#         # print(i, tmp_sp)\n",
    "#         species = tmp_sp.unsqueeze(0)\n",
    "#         coort = torch.FloatTensor(tmp_coor).unsqueeze(0)\n",
    "#         result = aev_computer((species.to(device), coort.to(device))).aevs\n",
    "#         aev_mat.append(result)\n",
    "#         mol_ene.append(energy[\"va_db\"][i])\n",
    "#         mol_sp.append(atom_number[\"va_db\"][i,:atom_counts[\"va_db\"][i]])\n",
    "#     except KeyError:\n",
    "#         continue"
   ]
  },
  {
   "cell_type": "markdown",
   "metadata": {},
   "source": [
    "## Save AEV as .npz file"
   ]
  },
  {
   "cell_type": "code",
   "execution_count": 7,
   "metadata": {},
   "outputs": [],
   "source": [
    "# np.savez(\"valid_aev_mat.npz\", aev=np.array(aev_mat), ene=mol_ene, sp=mol_sp)"
   ]
  },
  {
   "cell_type": "markdown",
   "metadata": {},
   "source": [
    "## Read saved AEV and energy data to be fed into model"
   ]
  },
  {
   "cell_type": "code",
   "execution_count": 8,
   "metadata": {},
   "outputs": [],
   "source": [
    "class custom_dataset(Dataset):\n",
    "    def __init__(self, file):\n",
    "        \"\"\"\n",
    "        Args:\n",
    "            csv_file (string): Path to the csv file with annotations.\n",
    "            root_dir (string): Directory with all the images.\n",
    "        \"\"\"\n",
    "        self.data = np.load(file, allow_pickle=True)\n",
    "        self.pad = pad_sequence([i.squeeze(0) for i in self.data[\"aev\"]], batch_first=True).to(\"cpu\")\n",
    "        self.ener = torch.Tensor(self.data[\"ene\"])\n",
    "        self.tmp_sp = []\n",
    "        for i in self.data[\"sp\"]:\n",
    "            self.tmp_sp.append(F.pad(torch.tensor(i), (0,29-len(i)), \"constant\", 0).unsqueeze(0))\n",
    "#         pdb.set_trace()\n",
    "        self.sp = torch.cat(self.tmp_sp, dim=0)\n",
    "        self.pad_aevs = torch.cat((self.sp.unsqueeze(2), self.pad), 2)\n",
    "\n",
    "#         self.sp = F.pad(b, (0,3-len(b)), \"constant\", 0) [i.reshape(1,-1) for i in self.data[\"sp\"]], batch_first=True)\n",
    "#         self.sp = pad_sequence([i.reshape(1,-1) for i in self.data[\"sp\"]], batch_first=True)\n",
    "        \n",
    "    def __len__(self):\n",
    "        return len(self.ener)\n",
    "    \n",
    "    def __getitem__(self, idx):\n",
    "        sample = {\"aev\": self.pad_aevs[idx].to(device), \"energy\": self.ener[idx].to(device), \"sp\": self.sp[idx].to(device)}\n",
    "        return sample"
   ]
  },
  {
   "cell_type": "code",
   "execution_count": 9,
   "metadata": {},
   "outputs": [],
   "source": [
    "# data = np.load(\"test_aev_mat.npz\", allow_pickle=True)\n",
    "test_data = custom_dataset(file=\"test_aev_mat.npz\")\n",
    "valid_data = custom_dataset(file=\"valid_aev_mat.npz\")"
   ]
  },
  {
   "cell_type": "code",
   "execution_count": 10,
   "metadata": {},
   "outputs": [],
   "source": [
    "trainloader = DataLoader(valid_data, batch_size=32, shuffle=True)\n",
    "validloader = DataLoader(test_data, batch_size=32, shuffle=True)"
   ]
  },
  {
   "cell_type": "markdown",
   "metadata": {},
   "source": [
    "## Initialize Model, Define loss, optimizer"
   ]
  },
  {
   "cell_type": "code",
   "execution_count": 11,
   "metadata": {},
   "outputs": [],
   "source": [
    "DART_model = DART_Net().to(device)\n",
    "\n",
    "def init_params(m):\n",
    "    if isinstance(m, torch.nn.Linear):\n",
    "        torch.nn.init.kaiming_normal_(m.weight, a=1.0)\n",
    "        if m.bias is not None:\n",
    "            torch.nn.init.zeros_(m.bias)\n",
    "\n",
    "DART_model.apply(init_params)\n",
    "\n",
    "random_seed= 42\n",
    "criterion = torch.nn.L1Loss()\n",
    "optimizer = torch.optim.Adam(DART_model.parameters(), lr=0.001)\n",
    "scheduler = ReduceLROnPlateau(optimizer, mode=\"min\", patience=25, verbose=True, eps=1e-09)"
   ]
  },
  {
   "cell_type": "code",
   "execution_count": 32,
   "metadata": {},
   "outputs": [],
   "source": [
    "def all_metric(y_true, y_pred):\n",
    "    y_true = y_true.cpu()\n",
    "    y_pred = y_pred.cpu()\n",
    "    print(\"RMSE = \", mean_squared_error(y_true, y_pred, squared=False))\n",
    "    print(\"MAE = \", mean_absolute_error(y_true, y_pred))\n",
    "\n",
    "    plt.figure(figsize=(6,6))\n",
    "    plt.scatter(y_true, y_pred, c='crimson')\n",
    "    # plt.yscale('log')\n",
    "    # plt.xscale('log')\n",
    "\n",
    "    p1 = max(max(y_pred), max(y_true))\n",
    "    p2 = min(min(y_pred), min(y_true))\n",
    "    plt.plot([p1, p2], [p1, p2], 'b-')\n",
    "    plt.xlabel('True Values', fontsize=15)\n",
    "    plt.ylabel('Predictions', fontsize=15)\n",
    "    plt.axis('equal')\n",
    "    plt.show()"
   ]
  },
  {
   "cell_type": "markdown",
   "metadata": {},
   "source": [
    "## Training loop, which trains and validates after each epoch"
   ]
  },
  {
   "cell_type": "code",
   "execution_count": 33,
   "metadata": {},
   "outputs": [],
   "source": [
    "epochal_train_losses = []\n",
    "epochal_val_losses  = []\n",
    "num_epochs = 1500\n",
    "epoch_freq = 10\n",
    "\n",
    "def test(DART_model, testloader):\n",
    "    mae = torch.nn.L1Loss()\n",
    "    rmse = torch.nn.MSELoss()\n",
    "    pred_energy = torch.tensor([], device=\"cuda\")\n",
    "    real_energy = torch.tensor([], device=\"cuda\")\n",
    "    cluster_size = torch.tensor([], device=\"cuda\")\n",
    "    DART_model.eval()\n",
    "    with torch.no_grad():\n",
    "        for batch in testloader:\n",
    "            energy = DART_model(batch[\"aev\"])\n",
    "            energy = energy.sum(axis=1).squeeze(dim=1)\n",
    "            pred_energy = torch.cat((pred_energy, energy))\n",
    "            real_energy = torch.cat((real_energy, batch[\"energy\"]))\n",
    "            cluster_size = torch.cat((cluster_size, batch[\"aev\"][:,0].sum(axis=1)))\n",
    "        results = torch.stack((cluster_size, real_energy, pred_energy), axis=1)\n",
    "        test_loss = mae(pred_energy, real_energy)\n",
    "        rmse_loss = torch.sqrt(rmse(pred_energy, real_energy))\n",
    "        print(\"Test MAE = \", test_loss.item(), \"Test RMSE = \", rmse_loss.item())\n",
    "        all_metric(real_energy, pred_energy)\n",
    "        return results, test_loss, rmse_loss\n",
    "    \n",
    "def train(DART_model, optimizer, epochal_train_losses, criterion):\n",
    "    train_loss = 0.00\n",
    "    n = 0\n",
    "    DART_model.train()\n",
    "    for batch in trainloader:\n",
    "#         pdb.set_trace()\n",
    "        optimizer.zero_grad()\n",
    "        energy = DART_model(batch[\"aev\"])\n",
    "#         print(energy.shape)\n",
    "        energy = energy.sum(axis=1)\n",
    "        batch_loss = criterion(energy, batch[\"energy\"].unsqueeze(dim=1))\n",
    "        batch_loss.backward()\n",
    "        optimizer.step()\n",
    "        \n",
    "        train_loss += batch_loss.detach().cpu()\n",
    "        n += 1\n",
    "    train_loss /= n\n",
    "    epochal_train_losses.append(train_loss)\n",
    "\n",
    "def train_and_evaluate(DART_model, optimizer, scheduler, criterion, start_epoch=1, restart=None):\n",
    "    if restart:\n",
    "        restore_path = os.path.join(log_dir + \"/last.pth.tar\")\n",
    "        checkpoint = load_checkpoint(restore_path, DART_model, optimizer)\n",
    "        start_epoch = checkpoint[\"epoch\"]\n",
    "\n",
    "    best_val = 100000.00\n",
    "    early_stopping_learning_rate = 1.0E-8\n",
    "    \n",
    "    for epoch in range(1, num_epochs+1):\n",
    "        learning_rate = optimizer.param_groups[0]['lr']\n",
    "        if learning_rate < early_stopping_learning_rate:\n",
    "            break\n",
    "\n",
    "        ############ training #############\n",
    "        train(DART_model, optimizer, epochal_train_losses, criterion)\n",
    "        \n",
    "        ############ validation #############\n",
    "        n=0\n",
    "        val_loss = 0.0\n",
    "        DART_model.eval()\n",
    "        for batch in validloader:\n",
    "            energy = DART_model(batch[\"aev\"])\n",
    "            energy = energy.sum(axis=1)\n",
    "            batch_loss = criterion(energy, batch[\"energy\"].unsqueeze(dim=1))\n",
    "            val_loss += batch_loss.detach().cpu()\n",
    "            n += 1\n",
    "        val_loss /= n\n",
    "        epochal_val_losses.append(val_loss)\n",
    "        scheduler.step(val_loss)\n",
    "     \n",
    "        is_best = val_loss <= best_val\n",
    "        if epoch % epoch_freq == 0:\n",
    "            print(\"Epoch: {: <5} Train: {: <20} Val: {: <20}\".format(epoch, epochal_train_losses[-1], val_loss))"
   ]
  },
  {
   "cell_type": "markdown",
   "metadata": {},
   "source": [
    "## Let's start training"
   ]
  },
  {
   "cell_type": "code",
   "execution_count": 13,
   "metadata": {},
   "outputs": [
    {
     "name": "stdout",
     "output_type": "stream",
     "text": [
      "Epoch: 10    Train: 1.866277813911438    Val: 1.6151621341705322  \n",
      "Epoch: 20    Train: 1.9423669576644897   Val: 2.5103907585144043  \n",
      "Epoch: 30    Train: 1.3907235860824585   Val: 1.399135708808899   \n",
      "Epoch: 40    Train: 1.3466105461120605   Val: 1.0137733221054077  \n",
      "Epoch: 50    Train: 1.2944533824920654   Val: 0.6149494051933289  \n",
      "Epoch: 60    Train: 1.5084160566329956   Val: 1.73054838180542    \n",
      "Epoch: 70    Train: 1.1773582696914673   Val: 1.3943172693252563  \n",
      "Epoch: 80    Train: 1.2351853847503662   Val: 1.1028813123703003  \n",
      "Epoch    85: reducing learning rate of group 0 to 1.0000e-04.\n",
      "Epoch: 90    Train: 0.28671136498451233  Val: 0.3108008801937103  \n",
      "Epoch: 100   Train: 0.27106496691703796  Val: 0.2588624358177185  \n",
      "Epoch: 110   Train: 0.2543846666812897   Val: 0.24889810383319855 \n",
      "Epoch: 120   Train: 0.24331453442573547  Val: 0.23761267960071564 \n",
      "Epoch: 130   Train: 0.22446970641613007  Val: 0.25266122817993164 \n",
      "Epoch: 140   Train: 0.2188691794872284   Val: 0.2699514627456665  \n",
      "Epoch: 150   Train: 0.21004976332187653  Val: 0.25160831212997437 \n",
      "Epoch: 160   Train: 0.2226988524198532   Val: 0.23208241164684296 \n",
      "Epoch: 170   Train: 0.21791422367095947  Val: 0.19336791336536407 \n",
      "Epoch: 180   Train: 0.19663308560848236  Val: 0.19176681339740753 \n",
      "Epoch: 190   Train: 0.2016136348247528   Val: 0.1979808360338211  \n",
      "Epoch: 200   Train: 0.18671327829360962  Val: 0.233453169465065   \n",
      "Epoch: 210   Train: 0.1937863826751709   Val: 0.18019990622997284 \n",
      "Epoch: 220   Train: 0.17448051273822784  Val: 0.17562277615070343 \n",
      "Epoch: 230   Train: 0.17769742012023926  Val: 0.18461838364601135 \n",
      "Epoch: 240   Train: 0.16880843043327332  Val: 0.21825017035007477 \n",
      "Epoch: 250   Train: 0.16117988526821136  Val: 0.1792234629392624  \n",
      "Epoch: 260   Train: 0.162974551320076    Val: 0.26116645336151123 \n",
      "Epoch: 270   Train: 0.17170658707618713  Val: 0.2834030091762543  \n",
      "Epoch: 280   Train: 0.1601727306842804   Val: 0.16006748378276825 \n",
      "Epoch: 290   Train: 0.15939843654632568  Val: 0.15925101935863495 \n",
      "Epoch: 300   Train: 0.1561560481786728   Val: 0.19553124904632568 \n",
      "Epoch: 310   Train: 0.15408983826637268  Val: 0.1507822424173355  \n",
      "Epoch: 320   Train: 0.1547745019197464   Val: 0.1544332057237625  \n",
      "Epoch: 330   Train: 0.14794784784317017  Val: 0.15893246233463287 \n",
      "Epoch: 340   Train: 0.15838921070098877  Val: 0.22389256954193115 \n",
      "Epoch   345: reducing learning rate of group 0 to 1.0000e-05.\n",
      "Epoch: 350   Train: 0.09936757385730743  Val: 0.1409144103527069  \n",
      "Epoch: 360   Train: 0.09865658730268478  Val: 0.13911354541778564 \n",
      "Epoch: 370   Train: 0.09871330112218857  Val: 0.13889436423778534 \n",
      "Epoch: 380   Train: 0.0995534285902977   Val: 0.13893166184425354 \n",
      "Epoch: 390   Train: 0.09739045053720474  Val: 0.1355464607477188  \n",
      "Epoch: 400   Train: 0.09689941257238388  Val: 0.1365782469511032  \n",
      "Epoch: 410   Train: 0.09616867452859879  Val: 0.13876251876354218 \n",
      "Epoch: 420   Train: 0.09611239284276962  Val: 0.15053832530975342 \n",
      "Epoch: 430   Train: 0.09556803107261658  Val: 0.13752375543117523 \n",
      "Epoch: 440   Train: 0.09352023899555206  Val: 0.1341184675693512  \n",
      "Epoch: 450   Train: 0.0945236012339592   Val: 0.13452796638011932 \n",
      "Epoch: 460   Train: 0.09388402104377747  Val: 0.13966000080108643 \n",
      "Epoch: 470   Train: 0.09315745532512665  Val: 0.13846786320209503 \n",
      "Epoch: 480   Train: 0.09315922856330872  Val: 0.13250671327114105 \n",
      "Epoch: 490   Train: 0.09347537159919739  Val: 0.13304057717323303 \n",
      "Epoch: 500   Train: 0.09303954243659973  Val: 0.13253358006477356 \n",
      "Epoch: 510   Train: 0.09178300946950912  Val: 0.13317005336284637 \n",
      "Epoch: 520   Train: 0.09317261725664139  Val: 0.13488097488880157 \n",
      "Epoch: 530   Train: 0.09071020036935806  Val: 0.13110515475273132 \n",
      "Epoch: 540   Train: 0.09320104122161865  Val: 0.1354416459798813  \n",
      "Epoch: 550   Train: 0.09123524278402328  Val: 0.13285072147846222 \n",
      "Epoch: 560   Train: 0.08974790573120117  Val: 0.1333490014076233  \n",
      "Epoch: 570   Train: 0.09015660732984543  Val: 0.1349012553691864  \n",
      "Epoch: 580   Train: 0.08923718333244324  Val: 0.1332663893699646  \n",
      "Epoch: 590   Train: 0.0900871679186821   Val: 0.13074254989624023 \n",
      "Epoch: 600   Train: 0.0910126119852066   Val: 0.12913036346435547 \n",
      "Epoch: 610   Train: 0.08954426646232605  Val: 0.1291453242301941  \n",
      "Epoch: 620   Train: 0.08835046738386154  Val: 0.13037972152233124 \n",
      "Epoch: 630   Train: 0.0881301686167717   Val: 0.13083906471729279 \n",
      "Epoch: 640   Train: 0.08817893266677856  Val: 0.13000087440013885 \n",
      "Epoch: 650   Train: 0.08759152144193649  Val: 0.1331004649400711  \n",
      "Epoch: 660   Train: 0.0864490494132042   Val: 0.12716162204742432 \n",
      "Epoch: 670   Train: 0.08777142316102982  Val: 0.1270161122083664  \n",
      "Epoch: 680   Train: 0.08532695472240448  Val: 0.13140393793582916 \n",
      "Epoch: 690   Train: 0.08635996282100677  Val: 0.1363006830215454  \n",
      "Epoch: 700   Train: 0.08624520897865295  Val: 0.12568862736225128 \n",
      "Epoch: 710   Train: 0.0848860964179039   Val: 0.13223569095134735 \n",
      "Epoch: 720   Train: 0.08572643995285034  Val: 0.12791423499584198 \n",
      "Epoch   726: reducing learning rate of group 0 to 1.0000e-06.\n",
      "Epoch: 730   Train: 0.0795174092054367   Val: 0.12478193640708923 \n",
      "Epoch: 740   Train: 0.07937630265951157  Val: 0.1248985081911087  \n",
      "Epoch: 750   Train: 0.07939919829368591  Val: 0.12480713427066803 \n",
      "Epoch: 760   Train: 0.07916607707738876  Val: 0.1247764602303505  \n",
      "Epoch: 770   Train: 0.07923595607280731  Val: 0.12464570999145508 \n",
      "Epoch: 780   Train: 0.07914671301841736  Val: 0.12604260444641113 \n",
      "Epoch: 790   Train: 0.07914596796035767  Val: 0.12487158924341202 \n",
      "Epoch: 800   Train: 0.07904426753520966  Val: 0.12642371654510498 \n",
      "Epoch   810: reducing learning rate of group 0 to 1.0000e-07.\n",
      "Epoch: 810   Train: 0.07904525101184845  Val: 0.12554006278514862 \n",
      "Epoch: 820   Train: 0.07819128036499023  Val: 0.12450046092271805 \n",
      "Epoch: 830   Train: 0.078156478703022    Val: 0.12444160878658295 \n",
      "Epoch: 840   Train: 0.07817299664020538  Val: 0.12446468323469162 \n",
      "Epoch   848: reducing learning rate of group 0 to 1.0000e-08.\n",
      "Epoch: 850   Train: 0.07805120944976807  Val: 0.12452273815870285 \n",
      "Epoch: 860   Train: 0.07804673910140991  Val: 0.12453792244195938 \n",
      "Epoch: 870   Train: 0.0780479833483696   Val: 0.1244925707578659  \n",
      "Epoch   874: reducing learning rate of group 0 to 1.0000e-09.\n"
     ]
    }
   ],
   "source": [
    "train_and_evaluate(DART_model, optimizer, scheduler, criterion)"
   ]
  },
  {
   "cell_type": "markdown",
   "metadata": {},
   "source": [
    "## Testing the model on unseen data (test-set)"
   ]
  },
  {
   "cell_type": "code",
   "execution_count": 34,
   "metadata": {},
   "outputs": [
    {
     "name": "stdout",
     "output_type": "stream",
     "text": [
      "Test MAE =  0.12448915094137192 Test RMSE =  0.19080029428005219\n",
      "RMSE =  0.1908003\n",
      "MAE =  0.12448915\n"
     ]
    },
    {
     "data": {
      "image/png": "[encoded data removed]",
      "text/plain": [
       "<Figure size 432x432 with 1 Axes>"
      ]
     },
     "metadata": {
      "needs_background": "light"
     },
     "output_type": "display_data"
    }
   ],
   "source": [
    "results, test_mae, test_rmse = test(DART_model, validloader)\n",
    "# results, test_mae, test_rmse = test(DART_model, testloader)"
   ]
  },
  {
   "cell_type": "markdown",
   "metadata": {},
   "source": [
    "## Training and validation loss curves"
   ]
  },
  {
   "cell_type": "code",
   "execution_count": 16,
   "metadata": {},
   "outputs": [
    {
     "data": {
      "image/png": "[encoded data removed]",
      "text/plain": [
       "<Figure size 432x288 with 1 Axes>"
      ]
     },
     "metadata": {
      "needs_background": "light"
     },
     "output_type": "display_data"
    }
   ],
   "source": [
    "plt.plot(np.arange(0, len(epochal_train_losses), 1), epochal_train_losses, label='Training Loss')\n",
    "plt.plot(np.arange(0, len(epochal_train_losses), 1), epochal_val_losses, label='validation loss')\n",
    "plt.legend(loc='best')\n",
    "plt.xlabel(\"Epochs\")\n",
    "plt.ylabel(\"Loss\")\n",
    "plt.show()"
   ]
  },
  {
   "cell_type": "code",
   "execution_count": 17,
   "metadata": {},
   "outputs": [
    {
     "data": {
      "image/png": "[encoded data removed]",
      "text/plain": [
       "<Figure size 432x288 with 1 Axes>"
      ]
     },
     "metadata": {
      "needs_background": "light"
     },
     "output_type": "display_data"
    }
   ],
   "source": [
    "results = results[results[:,0].argsort()].cpu().numpy()\n",
    "plt.hist(abs(results[:,1]-results[:,2]), density=True)\n",
    "plt.xlabel(\"MAE\")\n",
    "plt.ylabel(\"Freq\")\n",
    "plt.show()"
   ]
  }
 ],
 "metadata": {
  "kernelspec": {
   "display_name": "Python [conda env:qmml]",
   "language": "python",
   "name": "conda-env-qmml-py"
  },
  "language_info": {
   "codemirror_mode": {
    "name": "ipython",
    "version": 3
   },
   "file_extension": ".py",
   "mimetype": "text/x-python",
   "name": "python",
   "nbconvert_exporter": "python",
   "pygments_lexer": "ipython3",
   "version": "3.7.5"
  }
 },
 "nbformat": 4,
 "nbformat_minor": 4
}
